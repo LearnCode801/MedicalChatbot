{
 "cells": [
  {
   "cell_type": "code",
   "execution_count": 2,
   "metadata": {},
   "outputs": [],
   "source": [
    "from langchain_ai21 import AI21LLM"
   ]
  },
  {
   "cell_type": "code",
   "execution_count": null,
   "metadata": {},
   "outputs": [],
   "source": []
  },
  {
   "cell_type": "code",
   "execution_count": 13,
   "metadata": {},
   "outputs": [],
   "source": [
    "def load_AI21Lab_llm():\n",
    "    \n",
    "    llm = AI21LLM(model=\"j2-ultra\",api_key='enter your api',max_tokens=552)\n",
    "    return llm"
   ]
  },
  {
   "cell_type": "code",
   "execution_count": 14,
   "metadata": {},
   "outputs": [],
   "source": [
    "llm=load_AI21Lab_llm()"
   ]
  },
  {
   "cell_type": "code",
   "execution_count": 15,
   "metadata": {},
   "outputs": [
    {
     "data": {
      "text/plain": [
       "'\\nBrucellosis is a zoonotic disease, meaning it can be transmitted from animals to humans. It is caused by bacteria of the genus Brucella, which primarily infect wild and domestic animals. Humans can become infected through direct contact with infected animals or their tissues, or through consumption of contaminated dairy products. The disease can cause a wide range of symptoms, including fever, muscle pain, headache, and weakness. In some cases, brucellosis can be severe and can lead to complications such as endocarditis (inflammation of the heart valves) or meningitis (inflammation of the membranes surrounding the brain and spinal cord). The disease is preventable through proper hygiene practices and vaccination of livestock, and can be treated with appropriate antibiotics.'"
      ]
     },
     "execution_count": 15,
     "metadata": {},
     "output_type": "execute_result"
    }
   ],
   "source": [
    "llm.predict(\"what is Brucellosis\")"
   ]
  },
  {
   "cell_type": "code",
   "execution_count": null,
   "metadata": {},
   "outputs": [],
   "source": []
  }
 ],
 "metadata": {
  "kernelspec": {
   "display_name": "mchatbot",
   "language": "python",
   "name": "python3"
  },
  "language_info": {
   "codemirror_mode": {
    "name": "ipython",
    "version": 3
   },
   "file_extension": ".py",
   "mimetype": "text/x-python",
   "name": "python",
   "nbconvert_exporter": "python",
   "pygments_lexer": "ipython3",
   "version": "3.8.19"
  }
 },
 "nbformat": 4,
 "nbformat_minor": 2
}
